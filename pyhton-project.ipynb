{
  "nbformat": 4,
  "nbformat_minor": 0,
  "metadata": {
    "colab": {
      "name": "Untitled11.ipynb",
      "provenance": []
    },
    "kernelspec": {
      "name": "python3",
      "display_name": "Python 3"
    },
    "language_info": {
      "name": "python"
    }
  },
  "cells": [
    {
      "cell_type": "markdown",
      "source": [
        "1- Bir listeyi düzleştiren (flatten) fonksiyon yazın. Elemanları birden çok katmanlı listelerden ([[3],2] gibi) oluşabileceği gibi, non-scalar verilerden de oluşabilir. Örnek olarak:\n",
        "\n",
        "input: [[1,'a',['cat'],2],[[[3]],'dog'],4,5]\n",
        "\n",
        "output: [1,'a','cat',2,3,'dog',4,5]"
      ],
      "metadata": {
        "id": "gjYqTqIUX6zr"
      }
    },
    {
      "cell_type": "code",
      "execution_count": 33,
      "metadata": {
        "colab": {
          "base_uri": "https://localhost:8080/"
        },
        "id": "Udml0dNsIu1Z",
        "outputId": "fcd12d3c-e2df-44e6-812a-05bf019edd72"
      },
      "outputs": [
        {
          "output_type": "stream",
          "name": "stdout",
          "text": [
            "[1, 'a', 'cat', 2, 3, 'dog', 4, 5]\n"
          ]
        }
      ],
      "source": [
        "i = [[1,'a',['cat'],2],[[[3]],'dog'],4,5]\n",
        "\n",
        "temp = []\n",
        "def flatten(input):\n",
        "  \n",
        "  if(type(input)==list):\n",
        "      for i in input:\n",
        "        flatten(i)\n",
        "        \n",
        "  else:\n",
        "    temp.append(input)\n",
        "  return temp\n",
        "print(flatten(i))"
      ]
    },
    {
      "cell_type": "markdown",
      "source": [
        "2- Verilen listenin içindeki elemanları tersine döndüren bir fonksiyon yazın. Eğer listenin içindeki elemanlar da liste içeriyorsa onların elemanlarını da tersine döndürün. Örnek olarak:\n",
        "\n",
        "input: [[1, 2], [3, 4], [5, 6, 7]]\n",
        "\n",
        "output: [[[7, 6, 5], [4, 3], [2, 1]]"
      ],
      "metadata": {
        "id": "viYSDk7mYFUT"
      }
    },
    {
      "cell_type": "code",
      "source": [
        "input = [[1, 2], [3, 4], [5, 6, 7],[9,10,11]]\n",
        "\n",
        "temp = []\n",
        "def reverse(arr):\n",
        "  for item in arr[::-1]:\n",
        "    if item==list:\n",
        "      reverse(item)\n",
        "    else:\n",
        "      temp.append(item[::-1])\n",
        "  return temp\n",
        "\n",
        "print(reverse(input))"
      ],
      "metadata": {
        "colab": {
          "base_uri": "https://localhost:8080/"
        },
        "id": "Pz-pajB7X6Ac",
        "outputId": "ff34ee16-8182-4fb6-b375-f2c1533a9bef"
      },
      "execution_count": 42,
      "outputs": [
        {
          "output_type": "stream",
          "name": "stdout",
          "text": [
            "[[11, 10, 9], [7, 6, 5], [4, 3], [2, 1]]\n"
          ]
        }
      ]
    },
    {
      "cell_type": "code",
      "source": [
        ""
      ],
      "metadata": {
        "id": "2vY2YEEDWoGt"
      },
      "execution_count": null,
      "outputs": []
    }
  ]
}